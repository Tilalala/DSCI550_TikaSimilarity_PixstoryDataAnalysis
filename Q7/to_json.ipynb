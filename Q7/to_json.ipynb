{
 "cells": [
  {
   "cell_type": "code",
   "execution_count": 2,
   "id": "ff90e9a4-6174-4b5e-8c68-36a61b31da89",
   "metadata": {},
   "outputs": [],
   "source": [
    "import pandas as pd\n",
    "import os"
   ]
  },
  {
   "cell_type": "code",
   "execution_count": 9,
   "id": "962ebd49-fbfe-447f-a4c3-631c186d2fbd",
   "metadata": {},
   "outputs": [
    {
     "name": "stderr",
     "output_type": "stream",
     "text": [
      "/var/folders/f1/bc5061553zqf4r1mhhsn_w4h0000gn/T/ipykernel_4173/1876427375.py:2: DtypeWarning: Columns (0,2,5) have mixed types. Specify dtype option on import or set low_memory=False.\n",
      "  df = pd.read_csv(filename, delimiter='\\t')\n"
     ]
    }
   ],
   "source": [
    "filename = 'Team6_DSCI550_HW_BIGDATA_0312.tsv'\n",
    "df = pd.read_csv(filename, delimiter='\\t')"
   ]
  },
  {
   "cell_type": "code",
   "execution_count": 10,
   "id": "f03cde92-9485-415e-849d-86018e68e2d9",
   "metadata": {},
   "outputs": [],
   "source": [
    "#delete rows containing only NAN\n",
    "df_without_nan = df.dropna(how='all')"
   ]
  },
  {
   "cell_type": "code",
   "execution_count": 4,
   "id": "78f4bc00-3931-4468-b2ef-1ab477343b91",
   "metadata": {},
   "outputs": [],
   "source": [
    "if not os.path.exists('data'):\n",
    "    os.makedirs('data')\n",
    "for i in range(len(df_without_nan)):\n",
    "    df.iloc[i].to_json(f'data/{i}.json')"
   ]
  },
  {
   "cell_type": "code",
   "execution_count": 11,
   "id": "e539fe32-a431-4fc0-8462-97e670150e65",
   "metadata": {},
   "outputs": [],
   "source": [
    "if not os.path.exists('json1'):\n",
    "    os.makedirs('json1')\n",
    "df.iloc[0:100].to_json('json1.json')"
   ]
  },
  {
   "cell_type": "code",
   "execution_count": 13,
   "id": "d1546d9c-1ea6-4a37-a7a8-7f5787ac517b",
   "metadata": {},
   "outputs": [
    {
     "data": {
      "text/plain": [
       "array([0.83333333, 1.        , 0.91666667])"
      ]
     },
     "execution_count": 13,
     "metadata": {},
     "output_type": "execute_result"
    }
   ],
   "source": [
    "ans = pd.read_csv('edit_distance_similarity/edit_subset3_scores.csv')\n",
    "ans['Similarity_score'].unique()"
   ]
  },
  {
   "cell_type": "code",
   "execution_count": 14,
   "id": "562c259a",
   "metadata": {},
   "outputs": [],
   "source": [
    "with open('json_in.txt','w') as f:\n",
    "    for i in range(0,100):\n",
    "        f.write(f'/Users/mac/Desktop/hw1/subset1/{i}.json\\n')\n",
    "    "
   ]
  },
  {
   "cell_type": "code",
   "execution_count": null,
   "id": "41b0703e",
   "metadata": {},
   "outputs": [],
   "source": []
  }
 ],
 "metadata": {
  "kernelspec": {
   "display_name": "Python 3 (ipykernel)",
   "language": "python",
   "name": "python3"
  },
  "language_info": {
   "codemirror_mode": {
    "name": "ipython",
    "version": 3
   },
   "file_extension": ".py",
   "mimetype": "text/x-python",
   "name": "python",
   "nbconvert_exporter": "python",
   "pygments_lexer": "ipython3",
   "version": "3.9.12"
  }
 },
 "nbformat": 4,
 "nbformat_minor": 5
}
